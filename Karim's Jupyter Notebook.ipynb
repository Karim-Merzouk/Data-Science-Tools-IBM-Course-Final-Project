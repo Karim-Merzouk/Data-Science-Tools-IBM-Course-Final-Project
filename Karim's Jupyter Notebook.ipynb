{
 "cells": [
  {
   "cell_type": "markdown",
   "id": "3180f0e2-0812-4dc3-9ef6-a89da90d69bb",
   "metadata": {},
   "source": [
    "## Final Project :\n",
    "Karim's Jupyter Notebook\n"
   ]
  },
  {
   "cell_type": "markdown",
   "id": "df2a1cd1-2828-4191-b9fc-51b7062f1b24",
   "metadata": {},
   "source": [
    "## Introduction :\n",
    "\n",
    "I present you now my final project After finishing this Enjoyeable and so Interesting Course\n"
   ]
  },
  {
   "cell_type": "markdown",
   "id": "2b170503-f895-4a44-a810-6522dec2f437",
   "metadata": {},
   "source": [
    "## Data Science Languages:\n",
    "Python\n",
    "R\n",
    "SQL\n",
    "Julia...etc\n"
   ]
  },
  {
   "cell_type": "markdown",
   "id": "6d47d352-2153-4e7d-a553-f7d85866a5f6",
   "metadata": {},
   "source": [
    "## Data Science Libraries:\n",
    "Numpy\n",
    "Matplotlib\n",
    "Pandas\n",
    "Keras\n",
    "TensorFlow\n",
    "Scikit-Learn For Python  <br>\n",
    "\n",
    "ggplot, dplyr, Stringr, Caret For R\n",
    "\n"
   ]
  },
  {
   "cell_type": "markdown",
   "id": "aee1961b-b132-470b-bb17-61842b9e236e",
   "metadata": {},
   "source": [
    "\n",
    "## Data Science Tools\n",
    "| Tool Name                          | Purpose                                        |\n",
    "|------------------------------------|------------------------------------------------|\n",
    "| Jupyter Notebook                   | Interactive coding environment                 |\n",
    "| RStudio                            | Statistical computing                          |\n",
    "| Apache Spark                       | Big data processing                            |\n",
    "| GitHub                             | Code asset management                          |\n",
    "| IBM Watson Studio (IDE)            | Integrated development environment (IDE)       |\n",
    "| IBM Watson Studio (Execution Env)  | Execution environment                          |\n",
    "| Apache Airflow                     | Data integration and transformation            |\n",
    "| Kubeflow                           | Data integration and transformation            |\n",
    "| Apache Kafka                       | Data integration and transformation            |\n",
    "| Apache Nifi                        | Data integration and transformation            |\n",
    "| PixieDust                          | Data visualization                             |\n",
    "| Kibana                             | Data visualization                             |\n",
    "| Apache Superset                    | Data visualization                             |\n",
    "| Prediction IO                      | Model deployment                               |\n",
    "| Seldon                             | Model deployment                               |\n",
    "| MLeap                              | Model deployment                               |\n",
    "| TensorFlow Lite                    | Model deployment                               |\n",
    "| ModelDB                            | Model monitoring and assessment                |\n",
    "| Prometheus                         | Model monitoring and assessment                |\n",
    "| IBM Fairness 360 Toolkit           | Model monitoring and assessment (fairness)     |\n",
    "\n"
   ]
  },
  {
   "cell_type": "markdown",
   "id": "34baf529-de87-42b7-a394-37b5e76d876a",
   "metadata": {},
   "source": [
    "## Arithmetic Expression Examples\n",
    "Below are examples of basic arithmetic operations.\n"
   ]
  },
  {
   "cell_type": "code",
   "execution_count": 4,
   "id": "9ffd6e59-9936-46db-8bb6-fda6c470abe8",
   "metadata": {},
   "outputs": [
    {
     "name": "stdin",
     "output_type": "stream",
     "text": [
      "Enter the first Num: 4\n",
      "Enter the Second Num:  4\n"
     ]
    },
    {
     "name": "stdout",
     "output_type": "stream",
     "text": [
      "Their addition gives:  8\n",
      "Their Product gives:  16\n"
     ]
    }
   ],
   "source": [
    "# Multiply and Add numbers\n",
    "Num1 = int(input(\"Enter the first Num:\"))\n",
    "Num2 = int(input(\"Enter the Second Num: \"))\n",
    "Result = Num1 + Num2\n",
    "print (\"Their addition gives: \", Result)\n",
    "print (\"Their Product gives: \", Num1*Num2)\n"
   ]
  },
  {
   "cell_type": "markdown",
   "id": "4a26ac77-de45-4d74-86b5-7e524113056d",
   "metadata": {},
   "source": [
    "## Minutes To Hour Conversion"
   ]
  },
  {
   "cell_type": "code",
   "execution_count": 5,
   "id": "a9135dc0-abef-40f5-99fd-81bbf73d974e",
   "metadata": {},
   "outputs": [
    {
     "name": "stdin",
     "output_type": "stream",
     "text": [
      "Please Enter the Number of Minutes :  60\n"
     ]
    },
    {
     "name": "stdout",
     "output_type": "stream",
     "text": [
      "It's equivalent to  1.0 Hours\n"
     ]
    }
   ],
   "source": [
    "Num_minutes = float(input (\"Please Enter the Number of Minutes : \"))\n",
    "num_hours = Num_minutes/60\n",
    "print(\"It's equivalent to \", num_hours , \"Hours\")"
   ]
  },
  {
   "cell_type": "markdown",
   "id": "54397074-39ad-46c5-a526-3ec1523dda01",
   "metadata": {},
   "source": [
    "## Objectives\n",
    "- Learn about data science languages\n",
    "- Understand common data science libraries\n",
    "- Explore data science tools\n",
    "- Perform basic arithmetic and conversions\n"
   ]
  },
  {
   "cell_type": "markdown",
   "id": "bd4a6ca1-19df-471b-ae29-cf2ac33bcf19",
   "metadata": {},
   "source": [
    "## Author\n",
    "**Karim Merzouk**\n",
    "\n",
    "I have always been passionate about CS , and especially the Ai field since I was 13 y.o.\n",
    " \n",
    "I started my journey by learning HTML, CSS, php , and SQL for building some dynamic websites , among them one for my highschool that you can find on my profile. After that when I was 14 Y.o, I started learning python, and applying to build some Deep learning and neural network stuff, especially libraries like Tensorflow and Keras , OS , pandas ... etc \n",
    " you can find some imperfect ones of them in my GitHub account: https://github.com/Karim-Merzouk/CNN-Image-classification.git\n",
    "\n",
    "I Just completed this second IBM course, and It really helped me to improve my skills and learn more about Data science Tools and work"
   ]
  },
  {
   "cell_type": "code",
   "execution_count": null,
   "id": "550f7e25-1e4b-4ff3-b4d9-fec25694de2f",
   "metadata": {},
   "outputs": [],
   "source": []
  }
 ],
 "metadata": {
  "kernelspec": {
   "display_name": "Python 3 (ipykernel)",
   "language": "python",
   "name": "python3"
  },
  "language_info": {
   "codemirror_mode": {
    "name": "ipython",
    "version": 3
   },
   "file_extension": ".py",
   "mimetype": "text/x-python",
   "name": "python",
   "nbconvert_exporter": "python",
   "pygments_lexer": "ipython3",
   "version": "3.9.12"
  }
 },
 "nbformat": 4,
 "nbformat_minor": 5
}
